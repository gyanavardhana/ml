{
  "nbformat": 4,
  "nbformat_minor": 0,
  "metadata": {
    "colab": {
      "provenance": [],
      "include_colab_link": true
    },
    "kernelspec": {
      "name": "python3",
      "display_name": "Python 3"
    },
    "language_info": {
      "name": "python"
    }
  },
  "cells": [
    {
      "cell_type": "markdown",
      "metadata": {
        "id": "view-in-github",
        "colab_type": "text"
      },
      "source": [
        "<a href=\"https://colab.research.google.com/github/Viswesh934/jenkin-demo/blob/main/ML_LAB.ipynb\" target=\"_parent\"><img src=\"https://colab.research.google.com/assets/colab-badge.svg\" alt=\"Open In Colab\"/></a>"
      ]
    },
    {
      "cell_type": "markdown",
      "source": [
        "Experiment 1:"
      ],
      "metadata": {
        "id": "zIb7G6Ig-Leq"
      }
    },
    {
      "cell_type": "code",
      "execution_count": null,
      "metadata": {
        "colab": {
          "base_uri": "https://localhost:8080/"
        },
        "id": "-9Wig4UW97Vg",
        "outputId": "7f59a56d-caf5-4d85-caef-f0b6c1d94957"
      },
      "outputs": [
        {
          "output_type": "stream",
          "name": "stdout",
          "text": [
            "The probability that it is Friday and that a student is absent: 0.03\n",
            "The probability that it is Friday: 0.2\n",
            "The probability that a student is absent given that today is Friday: 15.0 %\n"
          ]
        }
      ],
      "source": [
        "# The probability that it is Friday and that a student is absent is 3%\n",
        "pAF = 0.03\n",
        "print(\"The probability that it is Friday and that a student is absent:\", pAF)\n",
        "\n",
        "# The probability that it is Friday is 20%\n",
        "pF = 0.2\n",
        "print(\"The probability that it is Friday:\", pF)\n",
        "\n",
        "# The probability that a student is absent given that today is Friday\n",
        "pResult = pAF / pF\n",
        "\n",
        "# Display the Result\n",
        "print(\"The probability that a student is absent given that today is Friday:\", pResult * 100, \"%\")"
      ]
    },
    {
      "cell_type": "markdown",
      "source": [
        "Experiment 2:"
      ],
      "metadata": {
        "id": "BVAsDS4r-Xnl"
      }
    },
    {
      "cell_type": "code",
      "source": [
        "# pip install mysql-connector-python\n",
        "import mysql.connector\n",
        "\n",
        "# Create the connection object\n",
        "myconn = mysql.connector.connect(host=\"localhost\", user=\"root\", passwd=\"gyana\", database=\"testing\")\n",
        "\n",
        "# Creating the cursor object\n",
        "cur = myconn.cursor()\n",
        "\n",
        "# Executing the query\n",
        "cur.execute(\"SELECT * FROM students\")\n",
        "\n",
        "# Fetching the rows from the cursor object\n",
        "result = cur.fetchall()\n",
        "\n",
        "print(\"Student Details are:\")\n",
        "# Printing the result\n",
        "for row in result:\n",
        "    print(\"Exp No:\", row[0])\n",
        "    print(\"Page No:\", row[1])\n",
        "    print(\"Date:\", row[2])\n",
        "    print()\n",
        "\n",
        "# Commit the transaction\n",
        "myconn.commit()\n",
        "\n",
        "# Close the connection\n",
        "myconn.close()\n"
      ],
      "metadata": {
        "id": "DpXuV5eI-Zpi"
      },
      "execution_count": null,
      "outputs": []
    },
    {
      "cell_type": "markdown",
      "source": [
        "Experiment 3:"
      ],
      "metadata": {
        "id": "ePj3411PAqB2"
      }
    },
    {
      "cell_type": "code",
      "source": [
        "# Import necessary modules\n",
        "from sklearn.neighbors import KNeighborsClassifier\n",
        "from sklearn.model_selection import train_test_split\n",
        "from sklearn.datasets import load_iris\n",
        "import random\n",
        "\n",
        "# Loading data\n",
        "data_iris = load_iris()\n",
        "\n",
        "# To get list of target names\n",
        "label_target = data_iris.target_names\n",
        "\n",
        "print()\n",
        "print(\"Sample Data from Iris Dataset\")\n",
        "print(\"*\" * 30)\n",
        "\n",
        "# to display the sample data from the iris dataset\n",
        "for i in range(10):\n",
        "    rn = random.randint(0, 120)\n",
        "    print(data_iris.data[rn], \"===>\", label_target[data_iris.target[rn]])\n",
        "\n",
        "# Create feature and target arrays\n",
        "X = data_iris.data\n",
        "y = data_iris.target\n",
        "\n",
        "# Split into training and test set\n",
        "X_train, X_test, y_train, y_test = train_test_split(X, y, test_size=0.3, random_state=1)\n",
        "\n",
        "print(\"The Training dataset length: \", len(X_train))\n",
        "print(\"The Testing dataset length: \", len(X_test))\n",
        "\n",
        "try:\n",
        "    nn = int(input(\"Enter number of neighbors: \"))\n",
        "    knn = KNeighborsClassifier(nn)\n",
        "\n",
        "    knn.fit(X_train, y_train)\n",
        "\n",
        "    # to display the score\n",
        "    print(\"The Score is:\", knn.score(X_test, y_test))\n",
        "\n",
        "    # To get test data from the user\n",
        "    test_data = input(\"Enter Test Data (comma-separated): \").split(\",\")\n",
        "    for i in range(len(test_data)):\n",
        "        test_data[i] = float(test_data[i])\n",
        "    print()\n",
        "\n",
        "    v = knn.predict([test_data])\n",
        "    print(\"Predicted output is:\", label_target[v[0]])\n",
        "\n",
        "except:\n",
        "    print(\"Please supply valid input......\")\n"
      ],
      "metadata": {
        "colab": {
          "base_uri": "https://localhost:8080/"
        },
        "id": "9oe3MnpLArs_",
        "outputId": "e6f0886e-d130-490d-a8c3-e3e01031e97d"
      },
      "execution_count": null,
      "outputs": [
        {
          "output_type": "stream",
          "name": "stdout",
          "text": [
            "\n",
            "Sample Data from Iris Dataset\n",
            "******************************\n",
            "[6.5 3.  5.5 1.8] ===> virginica\n",
            "[5.  3.4 1.6 0.4] ===> setosa\n",
            "[5.9 3.2 4.8 1.8] ===> versicolor\n",
            "[4.6 3.6 1.  0.2] ===> setosa\n",
            "[6.3 3.3 6.  2.5] ===> virginica\n",
            "[6.5 3.2 5.1 2. ] ===> virginica\n",
            "[5.7 2.8 4.5 1.3] ===> versicolor\n",
            "[6.7 3.1 4.7 1.5] ===> versicolor\n",
            "[6.1 2.9 4.7 1.4] ===> versicolor\n",
            "[5.  3.5 1.6 0.6] ===> setosa\n",
            "The Training dataset length:  105\n",
            "The Testing dataset length:  45\n",
            "Enter number of neighbors: 10\n",
            "The Score is: 0.9777777777777777\n",
            "Enter Test Data (comma-separated): 6.2,2.6,3.4,0.6\n",
            "\n",
            "Predicted output is: versicolor\n"
          ]
        }
      ]
    },
    {
      "cell_type": "markdown",
      "source": [
        "Experiment 4:"
      ],
      "metadata": {
        "id": "URx5Hl5wBw_W"
      }
    },
    {
      "cell_type": "code",
      "source": [
        "from sklearn.cluster import KMeans\n",
        "import numpy as np\n",
        "\n",
        "X = np.array([[1.713, 1.586], [0.180, 1.786], [0.353, 1.240], [0.940, 1.566], [1.486, 0.759], [1.266, 1.106], [1.540, 0.419], [0.459, 1.799], [0.773, 0.186]])\n",
        "y = np.array([0, 1, 1, 0, 1, 0, 1, 1, 1])\n",
        "\n",
        "kmeans = KMeans(n_clusters=3, random_state=0).fit(X, y)\n",
        "\n",
        "print(\"The input data is \")\n",
        "print(\"VAR1 \\t VAR2 \\t CLASS\")\n",
        "i = 0\n",
        "for val in X:\n",
        "    print(val[0], \"\\t\", val[1], \"\\t\", y[i])\n",
        "    i += 1\n",
        "print(\"=\" * 20)\n",
        "\n",
        "# To get test data from the user\n",
        "print(\"The Test data to predict \")\n",
        "test_data = []\n",
        "VAR1 = float(input(\"Enter Value for VAR1: \"))\n",
        "VAR2 = float(input(\"Enter Value for VAR2: \"))\n",
        "test_data.append(VAR1)\n",
        "test_data.append(VAR2)\n",
        "print(\"=\" * 20)\n",
        "print(\"The predicted Class is:\", kmeans.predict([test_data]))\n"
      ],
      "metadata": {
        "colab": {
          "base_uri": "https://localhost:8080/"
        },
        "id": "ZJXVb2jpBy3X",
        "outputId": "6f10553b-4a5b-46bf-f304-d61bfd7b39de"
      },
      "execution_count": null,
      "outputs": [
        {
          "output_type": "stream",
          "name": "stderr",
          "text": [
            "/usr/local/lib/python3.10/dist-packages/sklearn/cluster/_kmeans.py:870: FutureWarning: The default value of `n_init` will change from 10 to 'auto' in 1.4. Set the value of `n_init` explicitly to suppress the warning\n",
            "  warnings.warn(\n"
          ]
        },
        {
          "output_type": "stream",
          "name": "stdout",
          "text": [
            "The input data is \n",
            "VAR1 \t VAR2 \t CLASS\n",
            "1.713 \t 1.586 \t 0\n",
            "0.18 \t 1.786 \t 1\n",
            "0.353 \t 1.24 \t 1\n",
            "0.94 \t 1.566 \t 0\n",
            "1.486 \t 0.759 \t 1\n",
            "1.266 \t 1.106 \t 0\n",
            "1.54 \t 0.419 \t 1\n",
            "0.459 \t 1.799 \t 1\n",
            "0.773 \t 0.186 \t 1\n",
            "====================\n",
            "The Test data to predict \n",
            "Enter Value for VAR1: 0.906\n",
            "Enter Value for VAR2: 0.606\n",
            "====================\n",
            "The predicted Class is: [0]\n"
          ]
        }
      ]
    },
    {
      "cell_type": "markdown",
      "source": [
        "Experiment 5:"
      ],
      "metadata": {
        "id": "r5XDPa6TCTaV"
      }
    },
    {
      "cell_type": "code",
      "source": [
        "total_Records = 10\n",
        "numGolfRecords = 4\n",
        "unConditionalprobGolf = numGolfRecords / total_Records\n",
        "print(\"Unconditional probability of golf: = {}\".format(unConditionalprobGolf))\n",
        "\n",
        "# Conditional probability of 'single' given 'medRisk'\n",
        "numMedRiskSingle = 2\n",
        "numMedRisk = 3\n",
        "probMedRiskSingle = numMedRiskSingle / total_Records\n",
        "probMedRisk = numMedRisk / total_Records\n",
        "conditionalProb = probMedRiskSingle / probMedRisk\n",
        "print(\"Conditional probability of single given medRisk: = {}\".format(conditionalProb))\n"
      ],
      "metadata": {
        "colab": {
          "base_uri": "https://localhost:8080/"
        },
        "id": "mCNYoVY9CVhc",
        "outputId": "9a6d422e-0a8a-4a59-ef69-8f216f3d36b1"
      },
      "execution_count": null,
      "outputs": [
        {
          "output_type": "stream",
          "name": "stdout",
          "text": [
            "Unconditional probability of golf: = 0.4\n",
            "Conditional probability of single given medRisk: = 0.6666666666666667\n"
          ]
        }
      ]
    },
    {
      "cell_type": "markdown",
      "source": [
        "Experiment: 6"
      ],
      "metadata": {
        "id": "3zhutJdICok1"
      }
    },
    {
      "cell_type": "code",
      "source": [
        "import pandas as pd\n",
        "import numpy as np\n",
        "import matplotlib.pyplot as plt\n",
        "\n",
        "# Creating data directly in the code\n",
        "data = {\n",
        "    'Age': [25, 23, 24, 28, 34, 32, 42, 55, 45],\n",
        "    'Income': [25000, 22000, 26000, 29000, 38600, 36500, 41000, 81000, 47500]\n",
        "}\n",
        "\n",
        "# Creating DataFrame from the data\n",
        "dataFrame = pd.DataFrame(data)\n",
        "\n",
        "# To place data into age and income vectors\n",
        "age = dataFrame['Age']\n",
        "income = dataFrame['Income']\n",
        "\n",
        "# Number of points\n",
        "num = np.size(age)\n",
        "\n",
        "# To find the mean of age and income vector\n",
        "mean_age = np.mean(age)\n",
        "mean_income = np.mean(income)\n",
        "\n",
        "# Calculating cross-deviation and deviation about age\n",
        "CD_ageincome = np.sum(income * age) - num * mean_income * mean_age\n",
        "CD_ageage = np.sum(age * age) - num * mean_age * mean_age\n",
        "\n",
        "# Calculating regression coefficients\n",
        "b1 = CD_ageincome / CD_ageage\n",
        "b0 = mean_income - b1 * mean_age\n",
        "\n",
        "# To display coefficients\n",
        "print(\"Estimated Coefficients:\")\n",
        "print(\"b0 =\", b0)\n",
        "print(\"b1 =\", b1)\n",
        "\n",
        "# To plot the actual points as a scatter plot\n",
        "plt.scatter(age, income, color=\"b\", marker=\"o\")\n",
        "\n",
        "# To predict response vector\n",
        "response_Vec = b0 + b1 * age\n",
        "\n",
        "# To plot the regression line\n",
        "plt.plot(age, response_Vec, color=\"r\")\n",
        "\n",
        "# Placing labels\n",
        "plt.xlabel('Age')\n",
        "plt.ylabel('Income')\n",
        "\n",
        "# To display the plot\n",
        "plt.show()\n"
      ],
      "metadata": {
        "colab": {
          "base_uri": "https://localhost:8080/",
          "height": 501
        },
        "id": "YFnO6iLtCqS4",
        "outputId": "c5ee9f74-f542-4d42-b191-ea35c68083af"
      },
      "execution_count": null,
      "outputs": [
        {
          "output_type": "stream",
          "name": "stdout",
          "text": [
            "Estimated Coefficients:\n",
            "b0 = -14560.45016077166\n",
            "b1 = 1550.7923748277433\n"
          ]
        },
        {
          "output_type": "display_data",
          "data": {
            "text/plain": [
              "<Figure size 640x480 with 1 Axes>"
            ],
            "image/png": "[encoded data removed]"
          },
          "metadata": {}
        }
      ]
    },
    {
      "cell_type": "markdown",
      "source": [
        "Experiment 7:\n"
      ],
      "metadata": {
        "id": "Fzonuj-SF6HR"
      }
    },
    {
      "cell_type": "code",
      "source": [
        "import pandas as pd\n",
        "from sklearn.model_selection import train_test_split\n",
        "from sklearn.feature_extraction.text import CountVectorizer\n",
        "from sklearn.naive_bayes import MultinomialNB\n",
        "from sklearn.metrics import accuracy_score, confusion_matrix, precision_score, recall_score\n",
        "\n",
        "msglbl_data = pd.read_csv('Statements_data.csv', names=['Message', 'Label'])\n",
        "print(\"The Total instances in the Dataset: \", msglbl_data.shape[0])\n",
        "\n",
        "msglbl_data['labelnum'] = msglbl_data.Label.map({'pos': 1, 'neg': 0})\n",
        "\n",
        "# place the data in X and Y Vectors\n",
        "X = msglbl_data[\"Message\"]\n",
        "Y = msglbl_data.labelnum\n",
        "\n",
        "# to split the data into train se and test set\n",
        "Xtrain, Xtest, Ytrain, Ytest = train_test_split(X, Y)\n",
        "\n",
        "count_vect = CountVectorizer()\n",
        "Xtrain_dims = count_vect.fit_transform(Xtrain)\n",
        "Xtest_dims = count_vect.transform(Xtest)\n",
        "df = pd.DataFrame(Xtrain_dims.toarray(), columns=count_vect.get_feature_names_out())\n",
        "\n",
        "clf = MultinomialNB()\n",
        "\n",
        "# to fit the train data into model\n",
        "clf.fit(Xtrain_dims, Ytrain)\n",
        "\n",
        "# to predict the test data\n",
        "prediction = clf.predict(Xtest_dims)\n",
        "\n",
        "print('******** Accuracy Metrics *********')\n",
        "print('Accuracy : ', accuracy_score(Ytest, prediction))\n",
        "print('Recall : ', recall_score(Ytest, prediction))\n",
        "print('Precision : ', precision_score(Ytest, prediction))\n",
        "print('Confusion Matrix : \\n', confusion_matrix(Ytest, prediction))\n",
        "print(10 * \"-\")\n",
        "\n",
        "# to predict the input statement\n",
        "test_stmt = [input(\"Enter any statement to predict: \")]\n",
        "test_dims = count_vect.transform(test_stmt)\n",
        "pred = clf.predict(test_dims)\n",
        "for stmt, lbl in zip(test_stmt, pred):\n",
        "    if lbl == 1:\n",
        "        print(\"Statement is Positive\")\n",
        "    else:\n",
        "        print(\"Statement is Negative\")\n"
      ],
      "metadata": {
        "colab": {
          "base_uri": "https://localhost:8080/"
        },
        "id": "oVoaPn4dF8AK",
        "outputId": "f6668bc7-5751-46e3-e4cf-a2c07f69cad8"
      },
      "execution_count": null,
      "outputs": [
        {
          "output_type": "stream",
          "name": "stdout",
          "text": [
            "The Total instances in the Dataset:  18\n",
            "******** Accuracy Metrics *********\n",
            "Accuracy :  0.6\n",
            "Recall :  0.3333333333333333\n",
            "Precision :  1.0\n",
            "Confusion Matrix : \n",
            " [[2 0]\n",
            " [2 1]]\n",
            "----------\n",
            "Enter any statement to predict: i love you\n",
            "Statement is Positive\n"
          ]
        }
      ]
    },
    {
      "cell_type": "markdown",
      "source": [
        "Experiment 8:"
      ],
      "metadata": {
        "id": "5GpIDiF0G4Xc"
      }
    },
    {
      "cell_type": "code",
      "source": [
        "import numpy as np\n",
        "\n",
        "def cal_pop_fitness(equation_inputs, pop):\n",
        "    # Calculating the fitness value of each solution in the current population.\n",
        "    # The fitness function calculates the sum of products between each input and its corresponding weight.\n",
        "    fitness = np.sum(pop * equation_inputs, axis=1)\n",
        "    return fitness\n",
        "\n",
        "def select_mating_pool(pop, fitness, num_parents):\n",
        "    # Selecting the best individuals in the current generation as parents for producing the offspring of the next generation.\n",
        "    parents = np.empty((num_parents, pop.shape[1]))\n",
        "    for parent_num in range(num_parents):\n",
        "        max_fitness_idx = np.where(fitness == np.max(fitness))\n",
        "        max_fitness_idx = max_fitness_idx[0][0]\n",
        "        parents[parent_num, :] = pop[max_fitness_idx, :]\n",
        "        fitness[max_fitness_idx] = -99999999999\n",
        "    return parents\n",
        "\n",
        "def crossover(parents, offspring_size):\n",
        "    offspring = np.empty(offspring_size)\n",
        "    # The point at which crossover takes place between two parents. Usually, it is at the center.\n",
        "    crossover_point = np.uint8(offspring_size[1] / 2)\n",
        "    for k in range(offspring_size[0]):\n",
        "        # Index of the first parent to mate.\n",
        "        parent1_idx = k % parents.shape[0]\n",
        "        # Index of the second parent to mate.\n",
        "        parent2_idx = (k + 1) % parents.shape[0]\n",
        "        # The new offspring will have its first half of its genes taken from the first parent.\n",
        "        offspring[k, 0:crossover_point] = parents[parent1_idx, 0:crossover_point]\n",
        "        # The new offspring will have its second half of its genes taken from the second parent.\n",
        "        offspring[k, crossover_point:] = parents[parent2_idx, crossover_point:]\n",
        "    return offspring\n",
        "\n",
        "def mutation(offspring_crossover, num_mutations=1):\n",
        "    mutations_counter = np.uint8(offspring_crossover.shape[1] / num_mutations)\n",
        "    # Mutation changes a number of genes as defined by the num_mutations argument. The changes are random.\n",
        "    for idx in range(offspring_crossover.shape[0]):\n",
        "        gene_idx = mutations_counter - 1\n",
        "        for mutation_num in range(num_mutations):\n",
        "            # The random value to be added to the gene.\n",
        "            random_value = np.random.uniform(-1.0, 1.0, 1)\n",
        "            offspring_crossover[idx, gene_idx] = offspring_crossover[idx, gene_idx] + random_value\n",
        "            gene_idx = gene_idx + mutations_counter\n",
        "    return offspring_crossover\n",
        "\n",
        "\"\"\"\n",
        "The y=target is to maximize this equation ASAP: y = w1x1 + w2x2 + w3x3 + w4x4 + w5x5 + 6wx6\n",
        "where (x1,x2,x3,x4,x5,x6) = (4,-2,3.5,5,-11,-4.7)\n",
        "What are the best values for the 6 weights w1 to w6?\n",
        "We are going to use the genetic algorithm for the best possible values after a number of generations.\n",
        "\"\"\"\n",
        "\n",
        "# Inputs of the equation.\n",
        "equation_inputs = [4, -2, 3.5, 5, -11, -4.7]\n",
        "# Number of the weights we are looking to optimize.\n",
        "num_weights = len(equation_inputs)\n",
        "\n",
        "# Genetic algorithm parameters:\n",
        "sol_per_pop = 8\n",
        "num_parents_mating = 4\n",
        "# Defining the population size.\n",
        "pop_size = (sol_per_pop, num_weights) # The population will have sol_per_pop chromosome where each chromosome has num_weights genes.\n",
        "# Creating the initial population.\n",
        "new_population = np.random.uniform(low=-4.0, high=4.0, size=pop_size)\n",
        "print(new_population)\n",
        "\n",
        "new_population[0, :] = [2.4, 0.7, 8, -2, 5, 1.1]\n",
        "new_population[1, :] = [-0.4, 2.7, 5, -1, 7, 0.1]\n",
        "new_population[2, :] = [-1, 2, 2, -3, 2, 0.9]\n",
        "new_population[3, :] = [4, 7, 12, 6.1, 1.4, -4]\n",
        "new_population[4, :] = [3.1, 4, 0, 2.4, 4.8, 0]\n",
        "new_population[5, :] = [-2, 3, -7, 6, 3, 3]\n",
        "\n",
        "# Calculating the fitness of the initial population.\n",
        "fitness = cal_pop_fitness(equation_inputs, new_population)\n",
        "\n",
        "# Selecting the parents for crossover.\n",
        "parents = select_mating_pool(new_population, fitness, num_parents_mating)\n",
        "\n",
        "# Crossover\n",
        "offspring_crossover = crossover(parents, offspring_size=(pop_size[0] - parents.shape[0], num_weights))\n",
        "print(\"Crossover\")\n",
        "print(offspring_crossover)\n",
        "\n",
        "# Adding some variations to the offspring using mutation.\n",
        "offspring_mutation = mutation(offspring_crossover, num_mutations=2)\n",
        "print(\"Mutation\")\n",
        "print(offspring_mutation)\n",
        "\n",
        "# Creating the new population based on the parents and offspring.\n",
        "new_population[0:parents.shape[0], :] = parents\n",
        "new_population[parents.shape[0]:, :] = offspring_mutation\n",
        "\n",
        "# Getting the best solution after iterating finishing all generations.\n",
        "# At first, the fitness is calculated for each solution in the final generation.\n",
        "fitness = cal_pop_fitness(equation_inputs, new_population)\n",
        "# Then return the index of that solution corresponding to the best fitness.\n",
        "best_match_idx = np.where(fitness == np.max(fitness))\n",
        "print(\"Best solution : \", new_population[best_match_idx, :])\n",
        "print(\"Best solution fitness : \", fitness[best_match_idx])\n",
        "\n",
        "import matplotlib.pyplot as plt\n",
        "plt.plot(fitness)\n",
        "plt.xlabel(\"Iteration\")\n",
        "plt.ylabel(\"Fitness\")\n",
        "plt.show()\n"
      ],
      "metadata": {
        "colab": {
          "base_uri": "https://localhost:8080/",
          "height": 851
        },
        "id": "BSotyt27G6ct",
        "outputId": "b8053940-6961-4e91-8253-ccb4714b83da"
      },
      "execution_count": null,
      "outputs": [
        {
          "output_type": "stream",
          "name": "stdout",
          "text": [
            "[[-2.52599392 -2.40814397 -0.37311622 -0.52406704 -3.31402973 -2.90276977]\n",
            " [ 3.77886832 -3.72367142 -1.37220632 -2.20730503  2.61061179  3.82497445]\n",
            " [ 3.70032579  0.80088169 -2.21362794 -1.48359911 -0.92623944 -1.64582683]\n",
            " [ 3.25778041  3.00769476  3.90450862 -0.49815668  1.77746427  1.06454377]\n",
            " [ 2.73479543 -0.21867614  0.84938309  0.70711771  2.20701052 -2.27780723]\n",
            " [-0.98186199 -1.5401509   3.54196877  0.30867375 -0.80578491 -2.38417862]\n",
            " [ 3.01709825 -1.48034027  1.47205165 -3.56981031  1.66390551 -2.31759389]\n",
            " [ 3.88364264  3.78306774  0.03158776 -2.53451832 -2.45938215  3.8085939 ]]\n",
            "Crossover\n",
            "[[ 4.          7.         12.         -2.53451832 -2.45938215  3.8085939 ]\n",
            " [ 3.88364264  3.78306774  0.03158776 -3.56981031  1.66390551 -2.31759389]\n",
            " [ 3.01709825 -1.48034027  1.47205165 -2.          5.          1.1       ]\n",
            " [ 2.4         0.7         8.          6.1         1.4        -4.        ]]\n",
            "Mutation\n",
            "[[ 4.          7.         11.3277182  -2.53451832 -2.45938215  3.72096999]\n",
            " [ 3.88364264  3.78306774 -0.91518169 -3.56981031  1.66390551 -1.74317023]\n",
            " [ 3.01709825 -1.48034027  1.21750359 -2.          5.          0.97118852]\n",
            " [ 2.4         0.7         8.52879483  6.1         1.4        -4.06453316]]\n",
            "Best solution :  [[[ 4.   7.  12.   6.1  1.4 -4. ]]]\n",
            "Best solution fitness :  [77.9]\n"
          ]
        },
        {
          "output_type": "stream",
          "name": "stderr",
          "text": [
            "<ipython-input-38-d2d5d09f9ada>:42: DeprecationWarning: Conversion of an array with ndim > 0 to a scalar is deprecated, and will error in future. Ensure you extract a single element from your array before performing this operation. (Deprecated NumPy 1.25.)\n",
            "  offspring_crossover[idx, gene_idx] = offspring_crossover[idx, gene_idx] + random_value\n"
          ]
        },
        {
          "output_type": "display_data",
          "data": {
            "text/plain": [
              "<Figure size 640x480 with 1 Axes>"
            ],
            "image/png": "[encoded data removed]"
          },
          "metadata": {}
        }
      ]
    },
    {
      "cell_type": "markdown",
      "source": [
        "Experiment 9:"
      ],
      "metadata": {
        "id": "fDRACJ3oKX-4"
      }
    },
    {
      "cell_type": "code",
      "source": [
        "import pandas as pd\n",
        "from sklearn.model_selection import train_test_split\n",
        "from sklearn.feature_extraction.text import CountVectorizer\n",
        "from sklearn.neural_network import MLPClassifier\n",
        "from sklearn.metrics import accuracy_score, confusion_matrix, precision_score, recall_score\n",
        "\n",
        "msglbl_data = pd.read_csv('Statements_data.csv', names=['Message', 'Label'])\n",
        "print(\"The Total instances in the Dataset: \", msglbl_data.shape[0])\n",
        "msglbl_data['labelnum'] = msglbl_data.Label.map({'pos': 1, 'neg': 0})\n",
        "\n",
        "# place the data in X and Y Vectors\n",
        "X = msglbl_data[\"Message\"]\n",
        "Y = msglbl_data.labelnum\n",
        "\n",
        "# to split the data into train set and test set\n",
        "Xtrain, Xtest, Ytrain, Ytest = train_test_split(X, Y)\n",
        "\n",
        "count_vect = CountVectorizer()\n",
        "Xtrain_dims = count_vect.fit_transform(Xtrain)\n",
        "Xtest_dims = count_vect.transform(Xtest)\n",
        "df = pd.DataFrame(Xtrain_dims.toarray(), columns=count_vect.get_feature_names_out())\n",
        "\n",
        "clf = MLPClassifier(solver='lbfgs', alpha=1e-5, hidden_layer_sizes=(5, 2), random_state=1)\n",
        "# to fit the train data into model\n",
        "clf.fit(Xtrain_dims, Ytrain)\n",
        "\n",
        "# to predict the test data\n",
        "prediction = clf.predict(Xtest_dims)\n",
        "print('******** Accuracy Metrics *********')\n",
        "print('Accuracy : ', accuracy_score(Ytest, prediction))\n",
        "print('Recall : ', recall_score(Ytest, prediction))\n",
        "print('Precision : ', precision_score(Ytest, prediction))\n",
        "print('Confusion Matrix : \\n', confusion_matrix(Ytest, prediction))\n",
        "print(10*\"-\")\n",
        "\n",
        "# to predict the input statement\n",
        "test_stmt = [input(\"Enter any statement to predict :\")]\n",
        "test_dims = count_vect.transform(test_stmt)\n",
        "pred = clf.predict(test_dims)\n",
        "for stmt, lbl in zip(test_stmt, pred):\n",
        "    if lbl == 1:\n",
        "        print(\"Statement is Positive\")\n",
        "    else:\n",
        "        print(\"Statement is Negative\")\n"
      ],
      "metadata": {
        "colab": {
          "base_uri": "https://localhost:8080/"
        },
        "id": "wKevleYaKrw_",
        "outputId": "3cadbdb8-3a2b-46a5-fd95-32e81cf53b66"
      },
      "execution_count": null,
      "outputs": [
        {
          "output_type": "stream",
          "name": "stdout",
          "text": [
            "The Total instances in the Dataset:  18\n",
            "******** Accuracy Metrics *********\n",
            "Accuracy :  0.4\n",
            "Recall :  1.0\n",
            "Precision :  0.4\n",
            "Confusion Matrix : \n",
            " [[0 3]\n",
            " [0 2]]\n",
            "----------\n",
            "Enter any statement to predict :i love this place\n",
            "Statement is Positive\n"
          ]
        }
      ]
    }
  ]
}